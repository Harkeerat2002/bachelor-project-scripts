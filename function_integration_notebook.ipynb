{
 "cells": [
  {
   "cell_type": "code",
   "execution_count": 3,
   "metadata": {},
   "outputs": [],
   "source": [
    "# Essential Imports\n",
    "import sys\n",
    "import numpy as np\n",
    "import pandas as pd\n",
    "\n",
    "# ADD PATHS TO THE PYTHONPATH\n",
    "sys.path.append('./api-chatgpt')\n",
    "sys.path.append('./api-google-search')\n",
    "sys.path.append('./data-preprocess')\n",
    "sys.path.append('./sentiment-analysis')\n",
    "sys.path.append('./simalarity-analysis')\n",
    "sys.path.append('./topic-modeling-analysis')\n",
    "\n",
    "# IMPORT MODULES\n",
    "from chatgpt_api import chatgpt_api\n",
    "from google_api import google_search_api, get_data_from_csv\n",
    "from data_preprocessing import DataPreprocessing\n",
    "from sentiment_anaylsis import sentiment_analysis\n",
    "from simalarity_analysis import similarity_analysis"
   ]
  },
  {
   "cell_type": "code",
   "execution_count": null,
   "metadata": {},
   "outputs": [],
   "source": [
    "# QUERIES TO BE TESTED\n",
    "count = 0\n",
    "with open('./results/Children-Queries.txt', 'r') as file:\n",
    "    queries = file.readlines()\n",
    "    for line in queries[:5]:\n",
    "        print(line)\n",
    "        "
   ]
  },
  {
   "attachments": {},
   "cell_type": "markdown",
   "metadata": {},
   "source": [
    "## API Calls for Google Search and ChatGPT\n",
    "\n",
    "## ChatGPT API:\n",
    "This Python code defines a function called **chatgpt_api()** that uses the OpenAI API to generate responses to a list of queries. The function first sets the OpenAI API key, then reads the queries from a file called **Children-Queries.txt**. The queries are stored in a list called **queries**.\n",
    "\n",
    "The function then initializes an empty dictionary called **response_text** that will be used to store the query and response for each query. The function also initializes an empty list called **response_list** that will be used to store all of the **response_text** dictionaries.\n",
    "\n",
    "The function then loops through each query in the **queries** list. For each query, the function sends a request to the OpenAI API using the **openai.ChatCompletion.create()** method. This method takes several parameters, including the model to use (**gpt-3.5-turbo**), the temperature of the response (0.5), and the messages to send to the API. The messages include a system message and a user message, with the user message being the current query.\n",
    "\n",
    "If the API request is successful, the function adds the query and response to the **response_text** dictionary and appends a copy of the dictionary to the **response_list** list. If the API request fails, the function adds the query and an error message to the **response_text** dictionary and appends a copy of the dictionary to the **response_list** list.\n",
    "\n",
    "Finally, the function writes the **response_list** list to a CSV file called **ChatGPT-API-Output.csv** using the **csv.DictWriter()** method."
   ]
  },
  {
   "cell_type": "code",
   "execution_count": null,
   "metadata": {},
   "outputs": [],
   "source": [
    "# CHATGPT API CALL\n",
    "chatgpt_api()"
   ]
  },
  {
   "cell_type": "code",
   "execution_count": null,
   "metadata": {},
   "outputs": [],
   "source": [
    "# GOOGLE SEARCH API CALL\n",
    "google_search_api()"
   ]
  },
  {
   "attachments": {},
   "cell_type": "markdown",
   "metadata": {},
   "source": [
    "## Basic Analysis of ChatGPT and Google Responses:"
   ]
  },
  {
   "cell_type": "code",
   "execution_count": 6,
   "metadata": {},
   "outputs": [
    {
     "ename": "TypeError",
     "evalue": "read_csv() got an unexpected keyword argument 'errors'",
     "output_type": "error",
     "traceback": [
      "\u001b[1;31m---------------------------------------------------------------------------\u001b[0m",
      "\u001b[1;31mTypeError\u001b[0m                                 Traceback (most recent call last)",
      "Cell \u001b[1;32mIn[6], line 2\u001b[0m\n\u001b[0;32m      1\u001b[0m \u001b[39m# Printin the data from the csv file\u001b[39;00m\n\u001b[1;32m----> 2\u001b[0m data \u001b[39m=\u001b[39m pd\u001b[39m.\u001b[39;49mread_csv(\u001b[39m'\u001b[39;49m\u001b[39m./results/Google-API-Output.csv\u001b[39;49m\u001b[39m'\u001b[39;49m, encoding\u001b[39m=\u001b[39;49m\u001b[39m'\u001b[39;49m\u001b[39mlatin-1\u001b[39;49m\u001b[39m'\u001b[39;49m, errors\u001b[39m=\u001b[39;49m\u001b[39m'\u001b[39;49m\u001b[39mignore\u001b[39;49m\u001b[39m'\u001b[39;49m)\n\u001b[0;32m      3\u001b[0m df \u001b[39m=\u001b[39m pd\u001b[39m.\u001b[39mDataFrame(data\u001b[39m.\u001b[39mdata, \n\u001b[0;32m      4\u001b[0m                   columns\u001b[39m=\u001b[39mdata\u001b[39m.\u001b[39mfeature_names)\n\u001b[0;32m      5\u001b[0m display(df\u001b[39m.\u001b[39mhead())\n",
      "File \u001b[1;32mc:\\Users\\Harkeerat Sawhney\\anaconda3\\envs\\Bachelor-Project\\lib\\site-packages\\pandas\\util\\_decorators.py:211\u001b[0m, in \u001b[0;36mdeprecate_kwarg.<locals>._deprecate_kwarg.<locals>.wrapper\u001b[1;34m(*args, **kwargs)\u001b[0m\n\u001b[0;32m    209\u001b[0m     \u001b[39melse\u001b[39;00m:\n\u001b[0;32m    210\u001b[0m         kwargs[new_arg_name] \u001b[39m=\u001b[39m new_arg_value\n\u001b[1;32m--> 211\u001b[0m \u001b[39mreturn\u001b[39;00m func(\u001b[39m*\u001b[39margs, \u001b[39m*\u001b[39m\u001b[39m*\u001b[39mkwargs)\n",
      "File \u001b[1;32mc:\\Users\\Harkeerat Sawhney\\anaconda3\\envs\\Bachelor-Project\\lib\\site-packages\\pandas\\util\\_decorators.py:331\u001b[0m, in \u001b[0;36mdeprecate_nonkeyword_arguments.<locals>.decorate.<locals>.wrapper\u001b[1;34m(*args, **kwargs)\u001b[0m\n\u001b[0;32m    325\u001b[0m \u001b[39mif\u001b[39;00m \u001b[39mlen\u001b[39m(args) \u001b[39m>\u001b[39m num_allow_args:\n\u001b[0;32m    326\u001b[0m     warnings\u001b[39m.\u001b[39mwarn(\n\u001b[0;32m    327\u001b[0m         msg\u001b[39m.\u001b[39mformat(arguments\u001b[39m=\u001b[39m_format_argument_list(allow_args)),\n\u001b[0;32m    328\u001b[0m         \u001b[39mFutureWarning\u001b[39;00m,\n\u001b[0;32m    329\u001b[0m         stacklevel\u001b[39m=\u001b[39mfind_stack_level(),\n\u001b[0;32m    330\u001b[0m     )\n\u001b[1;32m--> 331\u001b[0m \u001b[39mreturn\u001b[39;00m func(\u001b[39m*\u001b[39margs, \u001b[39m*\u001b[39m\u001b[39m*\u001b[39mkwargs)\n",
      "\u001b[1;31mTypeError\u001b[0m: read_csv() got an unexpected keyword argument 'errors'"
     ]
    }
   ],
   "source": [
    "# Printin the data from the csv file\n",
    "data = pd.read_csv('./results/Google-API-Output.csv', encoding='latin-1', errors='ignore')\n",
    "df = pd.DataFrame(data.data, \n",
    "                  columns=data.feature_names)\n",
    "display(df.head())"
   ]
  }
 ],
 "metadata": {
  "kernelspec": {
   "display_name": "Bachelor-Project",
   "language": "python",
   "name": "python3"
  },
  "language_info": {
   "codemirror_mode": {
    "name": "ipython",
    "version": 3
   },
   "file_extension": ".py",
   "mimetype": "text/x-python",
   "name": "python",
   "nbconvert_exporter": "python",
   "pygments_lexer": "ipython3",
   "version": "3.10.9"
  },
  "orig_nbformat": 4
 },
 "nbformat": 4,
 "nbformat_minor": 2
}
