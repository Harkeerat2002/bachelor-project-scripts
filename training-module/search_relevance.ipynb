{
 "cells": [
  {
   "cell_type": "code",
   "execution_count": 2,
   "metadata": {},
   "outputs": [],
   "source": [
    "import pandas as pd\n",
    "from sklearn.feature_extraction.text import CountVectorizer\n",
    "from sklearn.linear_model import LogisticRegression\n",
    "from sklearn.model_selection import train_test_split\n",
    "from sklearn.metrics import classification_report\n",
    "import numpy as np\n",
    "import pickle"
   ]
  },
  {
   "cell_type": "code",
   "execution_count": 3,
   "metadata": {},
   "outputs": [
    {
     "name": "stdout",
     "output_type": "stream",
     "text": [
      "              precision    recall  f1-score   support\n",
      "\n",
      "          NR       0.81      0.98      0.89       132\n",
      "           R       0.83      0.25      0.38        40\n",
      "\n",
      "    accuracy                           0.81       172\n",
      "   macro avg       0.82      0.62      0.64       172\n",
      "weighted avg       0.82      0.81      0.77       172\n",
      "\n"
     ]
    }
   ],
   "source": [
    "# Read the data into a pandas dataframe\n",
    "data = pd.read_csv('data/old-data.csv')\n",
    "\n",
    "# Split the data into features and target\n",
    "X = data[[\"user_query\", \"snippet\"]]\n",
    "y = data[\"source\"]\n",
    "\n",
    "# Preprocess the text data using CountVectorizer\n",
    "vectorizer = CountVectorizer()\n",
    "X = vectorizer.fit_transform(X.apply(lambda x: ' '.join(x), axis=1))\n",
    "\n",
    "# Split the data into training and testing sets\n",
    "X_train, X_test, y_train, y_test = train_test_split(X, y, test_size=0.4, random_state=42)\n",
    "\n",
    "# Train a logistic regression model\n",
    "model = LogisticRegression()\n",
    "model.fit(X_train, y_train)\n",
    "\n",
    "# Evaluate the model on the testing data\n",
    "y_pred = model.predict(X_test)\n",
    "print(classification_report(y_test, y_pred))\n",
    "\n",
    "# Save the model\n",
    "np.save('model.npy', model)\n",
    "np.save('vectorizer.npy', vectorizer)\n",
    "\n"
   ]
  },
  {
   "cell_type": "code",
   "execution_count": 30,
   "metadata": {},
   "outputs": [
    {
     "name": "stdout",
     "output_type": "stream",
     "text": [
      "Prediction for input 1: R (1=Relevant, 0=Not relevant)\n",
      "Prediction for input 2: R (1=Relevant, 0=Not relevant)\n"
     ]
    }
   ],
   "source": [
    "# Save the trained CountVectorizer and LogisticRegression objects to a file\n",
    "with open('model.pkl', 'wb') as f:\n",
    "    pickle.dump((vectorizer, model), f)\n",
    "\n",
    "# Load the trained CountVectorizer and LogisticRegression objects from a file\n",
    "with open('model.pkl', 'rb') as f:\n",
    "    vectorizer, model = pickle.load(f)\n",
    "    \n",
    "# Define a function to predict the relevance of a source given a user query and snippet\n",
    "def predict_relevance(model, vectorizer, query, snippet):\n",
    "    # Preprocess the input data\n",
    "    input_data = [query + ' ' + snippet]\n",
    "    input_data = vectorizer.transform(input_data)\n",
    "    \n",
    "    # Make a prediction using the trained model\n",
    "    prediction = model.predict(input_data)\n",
    "    \n",
    "    # Return the prediction (1 for relevant and 0 for not relevant)\n",
    "    return prediction[0]\n",
    "\n",
    "# Test the model with a relevant input\n",
    "query1 = \"What year did the Capulin Volcano in New Mexico Last errupt\"\n",
    "snippet1 = \"Capulin Volcano National Monument is located in northeastern New Mexico near the town of Raton. Designated a national monument in 1916, it contains a portion of the Raton-Clayton Volcanic Field, in particular a prime example of an extinct cinder cone volcano known as Capulin.\"\n",
    "prediction1 = predict_relevance(model, vectorizer, query1, snippet1)\n",
    "print(f\"Prediction for input 1: {prediction1} (1=Relevant, 0=Not relevant)\")\n",
    "\n",
    "# Test the model with a non-relevant input\n",
    "query2 = \"Roosevelt Campobello Parkâ€™s cameo in Ken Burns documentary ...\"\n",
    "snippet2 = \"The park has another reason to celebrate: the debut of a new 14-hour PBS documentary by acclaimed filmmaker Ken Burns, â€œThe Roosevelts: An Intimate History,â€ a 14-hour, seven-part film set to ...\"\n",
    "prediction2 = predict_relevance(model, vectorizer, query2, snippet2)\n",
    "print(f\"Prediction for input 2: {prediction2} (1=Relevant, 0=Not relevant)\")"
   ]
  },
  {
   "cell_type": "code",
   "execution_count": null,
   "metadata": {},
   "outputs": [],
   "source": []
  }
 ],
 "metadata": {
  "kernelspec": {
   "display_name": "bachelorProject",
   "language": "python",
   "name": "python3"
  },
  "language_info": {
   "codemirror_mode": {
    "name": "ipython",
    "version": 3
   },
   "file_extension": ".py",
   "mimetype": "text/x-python",
   "name": "python",
   "nbconvert_exporter": "python",
   "pygments_lexer": "ipython3",
   "version": "3.11.3"
  },
  "orig_nbformat": 4
 },
 "nbformat": 4,
 "nbformat_minor": 2
}
